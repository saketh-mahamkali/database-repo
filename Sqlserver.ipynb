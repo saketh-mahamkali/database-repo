{
    "metadata": {
        "kernelspec": {
            "name": "SQL",
            "display_name": "SQL",
            "language": "sql"
        },
        "language_info": {
            "name": "sql",
            "version": ""
        }
    },
    "nbformat_minor": 2,
    "nbformat": 4,
    "cells": [
        {
            "cell_type": "markdown",
            "source": [
                ""
            ],
            "metadata": {
                "azdata_cell_guid": "bca4cbc5-93e3-474c-a359-2f0e4405888d"
            }
        },
        {
            "cell_type": "code",
            "source": [
                "-- Remove existing database objects if they're present in the database\r\n",
                "-- This resets the Two Trees database to an empty state\r\n",
                "DROP TABLE IF EXISTS products.products;\r\n",
                "DROP TABLE IF EXISTS products.categories;\r\n",
                "DROP SCHEMA IF EXISTS products;\r\n",
                "\r\n",
                "-- Create the products schema\r\n",
                "GO -- comment this line out when running on PostgreSQL\r\n",
                "CREATE SCHEMA products;\r\n",
                "GO -- comment this line out when running on PostgreSQL\r\n",
                "\r\n",
                "-- Create a table for the Two Trees product data\r\n",
                "CREATE TABLE products.products (\r\n",
                "    SKU CHAR(7) NOT NULL PRIMARY KEY,\r\n",
                "    ProductName CHAR(50) NOT NULL,\r\n",
                "    CategoryID INT,\r\n",
                "    Size INT,\r\n",
                "    Price DECIMAL(5,2) NOT NULL\r\n",
                ");\r\n",
                "\r\n",
                "-- Create a table for the Two Trees category data\r\n",
                "CREATE TABLE products.categories (\r\n",
                "    CategoryID INT PRIMARY KEY,\r\n",
                "    CategoryDescription CHAR(50),\r\n",
                "    ProductLine CHAR(25)\r\n",
                ");\r\n",
                "\r\n",
                "-- Add data to the products table\r\n",
                "INSERT INTO products.products\r\n",
                "    (SKU, ProductName, CategoryID, Size, Price)\r\n",
                "VALUES\r\n",
                "    ('FCP008', 'First Cold Press', 1, 8, 8.99),\r\n",
                "    ('BI008', 'Basil-Infused EVO', 2, 8, 10.99),\r\n",
                "    ('GI016', 'Garlic-Infused EVO', 2, 16, 15.99),\r\n",
                "    ('OGEC004', 'Olive Glow Eye Cream', 3, 4, 18.99)\r\n",
                ";\r\n",
                "\r\n",
                "-- Add data to the categories table\r\n",
                "INSERT INTO products.categories\r\n",
                "    (CategoryID, CategoryDescription, ProductLine)\r\n",
                "VALUES\r\n",
                "    (1, 'Olive Oils', 'Gourmet Chef'),\r\n",
                "    (2, 'Flavor Infused Oils', 'Gourmet Chef'),\r\n",
                "    (3, 'Bath and Beauty', 'Cosmetics')\r\n",
                ";\r\n",
                "\r\n",
                "-- Review the data that's been entered\r\n",
                "SELECT * FROM products.products;\r\n",
                "SELECT * FROM products.categories;"
            ],
            "metadata": {
                "language": "sql",
                "azdata_cell_guid": "dd146767-01e9-449e-b6ea-29362fb365a6",
                "tags": [
                    "hide_input"
                ]
            },
            "outputs": [
                {
                    "output_type": "display_data",
                    "data": {
                        "text/html": "Commands completed successfully."
                    },
                    "metadata": {}
                },
                {
                    "output_type": "display_data",
                    "data": {
                        "text/html": "Commands completed successfully."
                    },
                    "metadata": {}
                },
                {
                    "output_type": "display_data",
                    "data": {
                        "text/html": "(4 rows affected)"
                    },
                    "metadata": {}
                },
                {
                    "output_type": "display_data",
                    "data": {
                        "text/html": "(3 rows affected)"
                    },
                    "metadata": {}
                },
                {
                    "output_type": "display_data",
                    "data": {
                        "text/html": "(4 rows affected)"
                    },
                    "metadata": {}
                },
                {
                    "output_type": "display_data",
                    "data": {
                        "text/html": "(3 rows affected)"
                    },
                    "metadata": {}
                },
                {
                    "output_type": "display_data",
                    "data": {
                        "text/html": "Total execution time: 00:00:00.099"
                    },
                    "metadata": {}
                },
                {
                    "output_type": "execute_result",
                    "metadata": {},
                    "execution_count": 1,
                    "data": {
                        "application/vnd.dataresource+json": {
                            "schema": {
                                "fields": [
                                    {
                                        "name": "SKU"
                                    },
                                    {
                                        "name": "ProductName"
                                    },
                                    {
                                        "name": "CategoryID"
                                    },
                                    {
                                        "name": "Size"
                                    },
                                    {
                                        "name": "Price"
                                    }
                                ]
                            },
                            "data": [
                                {
                                    "SKU": "BI008  ",
                                    "ProductName": "Basil-Infused EVO                                 ",
                                    "CategoryID": "2",
                                    "Size": "8",
                                    "Price": "10.99"
                                },
                                {
                                    "SKU": "FCP008 ",
                                    "ProductName": "First Cold Press                                  ",
                                    "CategoryID": "1",
                                    "Size": "8",
                                    "Price": "8.99"
                                },
                                {
                                    "SKU": "GI016  ",
                                    "ProductName": "Garlic-Infused EVO                                ",
                                    "CategoryID": "2",
                                    "Size": "16",
                                    "Price": "15.99"
                                },
                                {
                                    "SKU": "OGEC004",
                                    "ProductName": "Olive Glow Eye Cream                              ",
                                    "CategoryID": "3",
                                    "Size": "4",
                                    "Price": "18.99"
                                }
                            ]
                        },
                        "text/html": [
                            "<table>",
                            "<tr><th>SKU</th><th>ProductName</th><th>CategoryID</th><th>Size</th><th>Price</th></tr>",
                            "<tr><td>BI008  </td><td>Basil-Infused EVO                                 </td><td>2</td><td>8</td><td>10.99</td></tr>",
                            "<tr><td>FCP008 </td><td>First Cold Press                                  </td><td>1</td><td>8</td><td>8.99</td></tr>",
                            "<tr><td>GI016  </td><td>Garlic-Infused EVO                                </td><td>2</td><td>16</td><td>15.99</td></tr>",
                            "<tr><td>OGEC004</td><td>Olive Glow Eye Cream                              </td><td>3</td><td>4</td><td>18.99</td></tr>",
                            "</table>"
                        ]
                    }
                },
                {
                    "output_type": "execute_result",
                    "metadata": {},
                    "execution_count": 1,
                    "data": {
                        "application/vnd.dataresource+json": {
                            "schema": {
                                "fields": [
                                    {
                                        "name": "CategoryID"
                                    },
                                    {
                                        "name": "CategoryDescription"
                                    },
                                    {
                                        "name": "ProductLine"
                                    }
                                ]
                            },
                            "data": [
                                {
                                    "CategoryID": "1",
                                    "CategoryDescription": "Olive Oils                                        ",
                                    "ProductLine": "Gourmet Chef             "
                                },
                                {
                                    "CategoryID": "2",
                                    "CategoryDescription": "Flavor Infused Oils                               ",
                                    "ProductLine": "Gourmet Chef             "
                                },
                                {
                                    "CategoryID": "3",
                                    "CategoryDescription": "Bath and Beauty                                   ",
                                    "ProductLine": "Cosmetics                "
                                }
                            ]
                        },
                        "text/html": [
                            "<table>",
                            "<tr><th>CategoryID</th><th>CategoryDescription</th><th>ProductLine</th></tr>",
                            "<tr><td>1</td><td>Olive Oils                                        </td><td>Gourmet Chef             </td></tr>",
                            "<tr><td>2</td><td>Flavor Infused Oils                               </td><td>Gourmet Chef             </td></tr>",
                            "<tr><td>3</td><td>Bath and Beauty                                   </td><td>Cosmetics                </td></tr>",
                            "</table>"
                        ]
                    }
                }
            ],
            "execution_count": 1
        },
        {
            "cell_type": "code",
            "source": [
                "-- Change the values in a specific row\r\n",
                "UPDATE products.products\r\n",
                "SET CategoryID = 3,\r\n",
                "    Size = 4\r\n",
                "WHERE SKU = 'OGEC004';\r\n",
                "\r\n",
                "-- Remove a specific row from the database\r\n",
                "DELETE FROM products.products\r\n",
                "WHERE SKU = 'OGEC004';\r\n",
                "\r\n",
                "-- Verify changes to the data\r\n",
                "SELECT * FROM products.products;"
            ],
            "metadata": {
                "azdata_cell_guid": "506b5973-8457-483c-a5e4-c90c302bef84",
                "language": "sql",
                "tags": [
                    "hide_input"
                ]
            },
            "outputs": [
                {
                    "output_type": "display_data",
                    "data": {
                        "text/html": "(1 row affected)"
                    },
                    "metadata": {}
                },
                {
                    "output_type": "display_data",
                    "data": {
                        "text/html": "(1 row affected)"
                    },
                    "metadata": {}
                },
                {
                    "output_type": "display_data",
                    "data": {
                        "text/html": "(3 rows affected)"
                    },
                    "metadata": {}
                },
                {
                    "output_type": "display_data",
                    "data": {
                        "text/html": "Total execution time: 00:00:00.023"
                    },
                    "metadata": {}
                },
                {
                    "output_type": "execute_result",
                    "metadata": {},
                    "execution_count": 2,
                    "data": {
                        "application/vnd.dataresource+json": {
                            "schema": {
                                "fields": [
                                    {
                                        "name": "SKU"
                                    },
                                    {
                                        "name": "ProductName"
                                    },
                                    {
                                        "name": "CategoryID"
                                    },
                                    {
                                        "name": "Size"
                                    },
                                    {
                                        "name": "Price"
                                    }
                                ]
                            },
                            "data": [
                                {
                                    "SKU": "BI008  ",
                                    "ProductName": "Basil-Infused EVO                                 ",
                                    "CategoryID": "2",
                                    "Size": "8",
                                    "Price": "10.99"
                                },
                                {
                                    "SKU": "FCP008 ",
                                    "ProductName": "First Cold Press                                  ",
                                    "CategoryID": "1",
                                    "Size": "8",
                                    "Price": "8.99"
                                },
                                {
                                    "SKU": "GI016  ",
                                    "ProductName": "Garlic-Infused EVO                                ",
                                    "CategoryID": "2",
                                    "Size": "16",
                                    "Price": "15.99"
                                }
                            ]
                        },
                        "text/html": [
                            "<table>",
                            "<tr><th>SKU</th><th>ProductName</th><th>CategoryID</th><th>Size</th><th>Price</th></tr>",
                            "<tr><td>BI008  </td><td>Basil-Infused EVO                                 </td><td>2</td><td>8</td><td>10.99</td></tr>",
                            "<tr><td>FCP008 </td><td>First Cold Press                                  </td><td>1</td><td>8</td><td>8.99</td></tr>",
                            "<tr><td>GI016  </td><td>Garlic-Infused EVO                                </td><td>2</td><td>16</td><td>15.99</td></tr>",
                            "</table>"
                        ]
                    }
                }
            ],
            "execution_count": 2
        },
        {
            "cell_type": "code",
            "source": [
                "-- Change the values in a specific row\r\n",
                "UPDATE products.products\r\n",
                "SET CategoryID = 3,\r\n",
                "    Size = 4\r\n",
                "WHERE SKU = 'OGEC004';\r\n",
                "\r\n",
                "-- Remove a specific row from the database\r\n",
                "DELETE FROM products.products\r\n",
                "WHERE SKU = 'OGEC004';\r\n",
                "\r\n",
                "-- Verify changes to the data\r\n",
                "SELECT * FROM products.products;"
            ],
            "metadata": {
                "language": "sql",
                "azdata_cell_guid": "7cd29176-8689-42cb-a2b7-2439873ac64b"
            },
            "outputs": [
                {
                    "output_type": "display_data",
                    "data": {
                        "text/html": "(0 rows affected)"
                    },
                    "metadata": {}
                },
                {
                    "output_type": "display_data",
                    "data": {
                        "text/html": "(0 rows affected)"
                    },
                    "metadata": {}
                },
                {
                    "output_type": "display_data",
                    "data": {
                        "text/html": "(3 rows affected)"
                    },
                    "metadata": {}
                },
                {
                    "output_type": "display_data",
                    "data": {
                        "text/html": "Total execution time: 00:00:00.010"
                    },
                    "metadata": {}
                },
                {
                    "output_type": "execute_result",
                    "metadata": {},
                    "execution_count": 3,
                    "data": {
                        "application/vnd.dataresource+json": {
                            "schema": {
                                "fields": [
                                    {
                                        "name": "SKU"
                                    },
                                    {
                                        "name": "ProductName"
                                    },
                                    {
                                        "name": "CategoryID"
                                    },
                                    {
                                        "name": "Size"
                                    },
                                    {
                                        "name": "Price"
                                    }
                                ]
                            },
                            "data": [
                                {
                                    "SKU": "BI008  ",
                                    "ProductName": "Basil-Infused EVO                                 ",
                                    "CategoryID": "2",
                                    "Size": "8",
                                    "Price": "10.99"
                                },
                                {
                                    "SKU": "FCP008 ",
                                    "ProductName": "First Cold Press                                  ",
                                    "CategoryID": "1",
                                    "Size": "8",
                                    "Price": "8.99"
                                },
                                {
                                    "SKU": "GI016  ",
                                    "ProductName": "Garlic-Infused EVO                                ",
                                    "CategoryID": "2",
                                    "Size": "16",
                                    "Price": "15.99"
                                }
                            ]
                        },
                        "text/html": [
                            "<table>",
                            "<tr><th>SKU</th><th>ProductName</th><th>CategoryID</th><th>Size</th><th>Price</th></tr>",
                            "<tr><td>BI008  </td><td>Basil-Infused EVO                                 </td><td>2</td><td>8</td><td>10.99</td></tr>",
                            "<tr><td>FCP008 </td><td>First Cold Press                                  </td><td>1</td><td>8</td><td>8.99</td></tr>",
                            "<tr><td>GI016  </td><td>Garlic-Infused EVO                                </td><td>2</td><td>16</td><td>15.99</td></tr>",
                            "</table>"
                        ]
                    }
                }
            ],
            "execution_count": 3
        }
    ]
}