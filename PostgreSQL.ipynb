{
    "metadata": {
        "kernelspec": {
            "name": "SQL",
            "display_name": "SQL",
            "language": "sql"
        },
        "language_info": {
            "name": "sql",
            "version": ""
        }
    },
    "nbformat_minor": 2,
    "nbformat": 4,
    "cells": [
        {
            "cell_type": "code",
            "source": [
                "-- Remove existing database objects if they're present in the database\r\n",
                "-- This resets the Two Trees database to an empty state\r\n",
                "DROP TABLE IF EXISTS products.products;\r\n",
                "DROP TABLE IF EXISTS products.categories;\r\n",
                "DROP SCHEMA IF EXISTS products;\r\n",
                "\r\n",
                "-- Create the products schema\r\n",
                "CREATE SCHEMA products;\r\n",
                "\r\n",
                "-- Create a table for the Two Trees product data\r\n",
                "CREATE TABLE products.products (\r\n",
                "    SKU CHAR(7) NOT NULL PRIMARY KEY,\r\n",
                "    ProductName CHAR(50) NOT NULL,\r\n",
                "    CategoryID INT,\r\n",
                "    Size INT,\r\n",
                "    Price DECIMAL(5,2) NOT NULL\r\n",
                ");\r\n",
                "\r\n",
                "-- Create a table for the Two Trees category data\r\n",
                "CREATE TABLE products.categories (\r\n",
                "    CategoryID INT PRIMARY KEY,\r\n",
                "    CategoryDescription CHAR(50),\r\n",
                "    ProductLine CHAR(25)\r\n",
                ");\r\n",
                "\r\n",
                "-- Add data to the products table\r\n",
                "INSERT INTO products.products\r\n",
                "    (SKU, ProductName, CategoryID, Size, Price)\r\n",
                "VALUES\r\n",
                "    ('FCP008', 'First Cold Press', 1, 8, 8.99),\r\n",
                "    ('BI008', 'Basil-Infused EVO', 2, 8, 10.99),\r\n",
                "    ('GI016', 'Garlic-Infused EVO', 2, 16, 15.99),\r\n",
                "    ('OGEC004', 'Olive Glow Eye Cream', 3, 4, 18.99)\r\n",
                ";\r\n",
                "\r\n",
                "-- Add data to the categories table\r\n",
                "INSERT INTO products.categories\r\n",
                "    (CategoryID, CategoryDescription, ProductLine)\r\n",
                "VALUES\r\n",
                "    (1, 'Olive Oils', 'Gourmet Chef'),\r\n",
                "    (2, 'Flavor Infused Oils', 'Gourmet Chef'),\r\n",
                "    (3, 'Bath and Beauty', 'Cosmetics')\r\n",
                ";\r\n",
                "\r\n",
                "-- Review the data that's been entered\r\n",
                "SELECT * FROM products.products;\r\n",
                "SELECT * FROM products.categories;"
            ],
            "metadata": {
                "azdata_cell_guid": "a17c48cc-9e58-4045-8b01-22c05021ccde",
                "language": "sql"
            },
            "outputs": [
                {
                    "output_type": "display_data",
                    "data": {
                        "text/html": "NOTICE: schema \"products\" does not exist, skipping"
                    },
                    "metadata": {}
                },
                {
                    "output_type": "display_data",
                    "data": {
                        "text/html": "DROP TABLE"
                    },
                    "metadata": {}
                },
                {
                    "output_type": "display_data",
                    "data": {
                        "text/html": "NOTICE: schema \"products\" does not exist, skipping"
                    },
                    "metadata": {}
                },
                {
                    "output_type": "display_data",
                    "data": {
                        "text/html": "DROP TABLE"
                    },
                    "metadata": {}
                },
                {
                    "output_type": "display_data",
                    "data": {
                        "text/html": "NOTICE: schema \"products\" does not exist, skipping"
                    },
                    "metadata": {}
                },
                {
                    "output_type": "display_data",
                    "data": {
                        "text/html": "DROP SCHEMA"
                    },
                    "metadata": {}
                },
                {
                    "output_type": "display_data",
                    "data": {
                        "text/html": "CREATE SCHEMA"
                    },
                    "metadata": {}
                },
                {
                    "output_type": "display_data",
                    "data": {
                        "text/html": "CREATE TABLE"
                    },
                    "metadata": {}
                },
                {
                    "output_type": "display_data",
                    "data": {
                        "text/html": "CREATE TABLE"
                    },
                    "metadata": {}
                },
                {
                    "output_type": "display_data",
                    "data": {
                        "text/html": "INSERT 0 4"
                    },
                    "metadata": {}
                },
                {
                    "output_type": "display_data",
                    "data": {
                        "text/html": "INSERT 0 3"
                    },
                    "metadata": {}
                },
                {
                    "output_type": "display_data",
                    "data": {
                        "text/html": "(4 row(s) affected)"
                    },
                    "metadata": {}
                },
                {
                    "output_type": "display_data",
                    "data": {
                        "text/html": "(3 row(s) affected)"
                    },
                    "metadata": {}
                },
                {
                    "output_type": "display_data",
                    "data": {
                        "text/html": "Total execution time: 00:00:00.095"
                    },
                    "metadata": {}
                },
                {
                    "output_type": "execute_result",
                    "metadata": {},
                    "execution_count": 1,
                    "data": {
                        "application/vnd.dataresource+json": {
                            "schema": {
                                "fields": [
                                    {
                                        "name": "sku"
                                    },
                                    {
                                        "name": "productname"
                                    },
                                    {
                                        "name": "categoryid"
                                    },
                                    {
                                        "name": "size"
                                    },
                                    {
                                        "name": "price"
                                    }
                                ]
                            },
                            "data": [
                                {
                                    "sku": "FCP008 ",
                                    "productname": "First Cold Press                                  ",
                                    "categoryid": "1",
                                    "size": "8",
                                    "price": "8.99"
                                },
                                {
                                    "sku": "BI008  ",
                                    "productname": "Basil-Infused EVO                                 ",
                                    "categoryid": "2",
                                    "size": "8",
                                    "price": "10.99"
                                },
                                {
                                    "sku": "GI016  ",
                                    "productname": "Garlic-Infused EVO                                ",
                                    "categoryid": "2",
                                    "size": "16",
                                    "price": "15.99"
                                },
                                {
                                    "sku": "OGEC004",
                                    "productname": "Olive Glow Eye Cream                              ",
                                    "categoryid": "3",
                                    "size": "4",
                                    "price": "18.99"
                                }
                            ]
                        },
                        "text/html": [
                            "<table>",
                            "<tr><th>sku</th><th>productname</th><th>categoryid</th><th>size</th><th>price</th></tr>",
                            "<tr><td>FCP008 </td><td>First Cold Press                                  </td><td>1</td><td>8</td><td>8.99</td></tr>",
                            "<tr><td>BI008  </td><td>Basil-Infused EVO                                 </td><td>2</td><td>8</td><td>10.99</td></tr>",
                            "<tr><td>GI016  </td><td>Garlic-Infused EVO                                </td><td>2</td><td>16</td><td>15.99</td></tr>",
                            "<tr><td>OGEC004</td><td>Olive Glow Eye Cream                              </td><td>3</td><td>4</td><td>18.99</td></tr>",
                            "</table>"
                        ]
                    }
                },
                {
                    "output_type": "execute_result",
                    "metadata": {},
                    "execution_count": 1,
                    "data": {
                        "application/vnd.dataresource+json": {
                            "schema": {
                                "fields": [
                                    {
                                        "name": "categoryid"
                                    },
                                    {
                                        "name": "categorydescription"
                                    },
                                    {
                                        "name": "productline"
                                    }
                                ]
                            },
                            "data": [
                                {
                                    "categoryid": "1",
                                    "categorydescription": "Olive Oils                                        ",
                                    "productline": "Gourmet Chef             "
                                },
                                {
                                    "categoryid": "2",
                                    "categorydescription": "Flavor Infused Oils                               ",
                                    "productline": "Gourmet Chef             "
                                },
                                {
                                    "categoryid": "3",
                                    "categorydescription": "Bath and Beauty                                   ",
                                    "productline": "Cosmetics                "
                                }
                            ]
                        },
                        "text/html": [
                            "<table>",
                            "<tr><th>categoryid</th><th>categorydescription</th><th>productline</th></tr>",
                            "<tr><td>1</td><td>Olive Oils                                        </td><td>Gourmet Chef             </td></tr>",
                            "<tr><td>2</td><td>Flavor Infused Oils                               </td><td>Gourmet Chef             </td></tr>",
                            "<tr><td>3</td><td>Bath and Beauty                                   </td><td>Cosmetics                </td></tr>",
                            "</table>"
                        ]
                    }
                }
            ],
            "execution_count": 1
        },
        {
            "cell_type": "code",
            "source": [
                "-- Change the values in a specific row\r\n",
                "UPDATE products.products\r\n",
                "SET CategoryID = 3,\r\n",
                "    Size = 4\r\n",
                "WHERE SKU = 'OGEC004';\r\n",
                "\r\n",
                "-- Remove a specific row from the database\r\n",
                "DELETE FROM products.products\r\n",
                "WHERE SKU = 'OGEC004';\r\n",
                "\r\n",
                "-- Verify changes to the data\r\n",
                "SELECT * FROM products.products;"
            ],
            "metadata": {
                "azdata_cell_guid": "1ce670dc-ebf4-4580-844b-32c55a39b3b2",
                "language": "sql",
                "tags": []
            },
            "outputs": [
                {
                    "output_type": "display_data",
                    "data": {
                        "text/html": "UPDATE 1"
                    },
                    "metadata": {}
                },
                {
                    "output_type": "display_data",
                    "data": {
                        "text/html": "DELETE 1"
                    },
                    "metadata": {}
                },
                {
                    "output_type": "display_data",
                    "data": {
                        "text/html": "(3 row(s) affected)"
                    },
                    "metadata": {}
                },
                {
                    "output_type": "display_data",
                    "data": {
                        "text/html": "Total execution time: 00:00:00.013"
                    },
                    "metadata": {}
                },
                {
                    "output_type": "execute_result",
                    "metadata": {},
                    "execution_count": 2,
                    "data": {
                        "application/vnd.dataresource+json": {
                            "schema": {
                                "fields": [
                                    {
                                        "name": "sku"
                                    },
                                    {
                                        "name": "productname"
                                    },
                                    {
                                        "name": "categoryid"
                                    },
                                    {
                                        "name": "size"
                                    },
                                    {
                                        "name": "price"
                                    }
                                ]
                            },
                            "data": [
                                {
                                    "sku": "FCP008 ",
                                    "productname": "First Cold Press                                  ",
                                    "categoryid": "1",
                                    "size": "8",
                                    "price": "8.99"
                                },
                                {
                                    "sku": "BI008  ",
                                    "productname": "Basil-Infused EVO                                 ",
                                    "categoryid": "2",
                                    "size": "8",
                                    "price": "10.99"
                                },
                                {
                                    "sku": "GI016  ",
                                    "productname": "Garlic-Infused EVO                                ",
                                    "categoryid": "2",
                                    "size": "16",
                                    "price": "15.99"
                                }
                            ]
                        },
                        "text/html": [
                            "<table>",
                            "<tr><th>sku</th><th>productname</th><th>categoryid</th><th>size</th><th>price</th></tr>",
                            "<tr><td>FCP008 </td><td>First Cold Press                                  </td><td>1</td><td>8</td><td>8.99</td></tr>",
                            "<tr><td>BI008  </td><td>Basil-Infused EVO                                 </td><td>2</td><td>8</td><td>10.99</td></tr>",
                            "<tr><td>GI016  </td><td>Garlic-Infused EVO                                </td><td>2</td><td>16</td><td>15.99</td></tr>",
                            "</table>"
                        ]
                    }
                }
            ],
            "execution_count": 2
        },
        {
            "cell_type": "code",
            "source": [
                "-- View related data in two tables\r\n",
                "SELECT * FROM products.products\r\n",
                "WHERE SKU = 'ALB008';\r\n",
                "\r\n",
                "SELECT * FROM products.categories\r\n",
                "WHERE CategoryID = 1;\r\n",
                "\r\n",
                "-- Join columns together in a single query\r\n",
                "SELECT products.ProductName,\r\n",
                "    products.CategoryID,\r\n",
                "    products.SKU,\r\n",
                "    products.Price,\r\n",
                "    categories.ProductLine\r\n",
                "FROM products.products\r\n",
                "    JOIN products.categories\r\n",
                "        ON products.CategoryID = categories.CategoryID\r\n",
                "WHERE SKU = 'ALB008';"
            ],
            "metadata": {
                "language": "sql",
                "azdata_cell_guid": "7020fd5d-cd20-4355-ace8-f0f99927c1ab"
            },
            "outputs": [
                {
                    "output_type": "display_data",
                    "data": {
                        "text/html": "(0 row(s) affected)"
                    },
                    "metadata": {}
                },
                {
                    "output_type": "display_data",
                    "data": {
                        "text/html": "(1 row(s) affected)"
                    },
                    "metadata": {}
                },
                {
                    "output_type": "display_data",
                    "data": {
                        "text/html": "(0 row(s) affected)"
                    },
                    "metadata": {}
                },
                {
                    "output_type": "display_data",
                    "data": {
                        "text/html": "Total execution time: 00:00:00.014"
                    },
                    "metadata": {}
                },
                {
                    "output_type": "execute_result",
                    "metadata": {},
                    "execution_count": 3,
                    "data": {
                        "application/vnd.dataresource+json": {
                            "schema": {
                                "fields": [
                                    {
                                        "name": "sku"
                                    },
                                    {
                                        "name": "productname"
                                    },
                                    {
                                        "name": "categoryid"
                                    },
                                    {
                                        "name": "size"
                                    },
                                    {
                                        "name": "price"
                                    }
                                ]
                            },
                            "data": []
                        },
                        "text/html": [
                            "<table>",
                            "<tr><th>sku</th><th>productname</th><th>categoryid</th><th>size</th><th>price</th></tr>",
                            "</table>"
                        ]
                    }
                },
                {
                    "output_type": "execute_result",
                    "metadata": {},
                    "execution_count": 3,
                    "data": {
                        "application/vnd.dataresource+json": {
                            "schema": {
                                "fields": [
                                    {
                                        "name": "categoryid"
                                    },
                                    {
                                        "name": "categorydescription"
                                    },
                                    {
                                        "name": "productline"
                                    }
                                ]
                            },
                            "data": [
                                {
                                    "categoryid": "1",
                                    "categorydescription": "Olive Oils                                        ",
                                    "productline": "Gourmet Chef             "
                                }
                            ]
                        },
                        "text/html": [
                            "<table>",
                            "<tr><th>categoryid</th><th>categorydescription</th><th>productline</th></tr>",
                            "<tr><td>1</td><td>Olive Oils                                        </td><td>Gourmet Chef             </td></tr>",
                            "</table>"
                        ]
                    }
                },
                {
                    "output_type": "execute_result",
                    "metadata": {},
                    "execution_count": 3,
                    "data": {
                        "application/vnd.dataresource+json": {
                            "schema": {
                                "fields": [
                                    {
                                        "name": "productname"
                                    },
                                    {
                                        "name": "categoryid"
                                    },
                                    {
                                        "name": "sku"
                                    },
                                    {
                                        "name": "price"
                                    },
                                    {
                                        "name": "productline"
                                    }
                                ]
                            },
                            "data": []
                        },
                        "text/html": [
                            "<table>",
                            "<tr><th>productname</th><th>categoryid</th><th>sku</th><th>price</th><th>productline</th></tr>",
                            "</table>"
                        ]
                    }
                }
            ],
            "execution_count": 3
        }
    ]
}